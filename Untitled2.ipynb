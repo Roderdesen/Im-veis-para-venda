{
  "nbformat": 4,
  "nbformat_minor": 0,
  "metadata": {
    "colab": {
      "provenance": [],
      "authorship_tag": "ABX9TyOr1eN1EUjvYDMgttKb7wZ3",
      "include_colab_link": true
    },
    "kernelspec": {
      "name": "python3",
      "display_name": "Python 3"
    },
    "language_info": {
      "name": "python"
    }
  },
  "cells": [
    {
      "cell_type": "markdown",
      "metadata": {
        "id": "view-in-github",
        "colab_type": "text"
      },
      "source": [
        "<a href=\"https://colab.research.google.com/github/Roderdesen/Im-veis-para-venda/blob/main/Untitled2.ipynb\" target=\"_parent\"><img src=\"https://colab.research.google.com/assets/colab-badge.svg\" alt=\"Open In Colab\"/></a>"
      ]
    },
    {
      "cell_type": "code",
      "execution_count": 1,
      "metadata": {
        "id": "YHQY0K4RYAuz"
      },
      "outputs": [],
      "source": [
        "import requests\n",
        "from bs4 import BeautifulSoup\n",
        "\n",
        "# Função para buscar imóveis em Florianópolis no Imovelweb\n",
        "def buscar_imoveis_imovelweb(pagina):\n",
        "  \"\"\"\n",
        "  Função que recebe o número da página e retorna uma lista de dicionários com informações sobre os imóveis encontrados.\n",
        "\n",
        "  Argumentos:\n",
        "    pagina (int): Número da página a ser pesquisada.\n",
        "\n",
        "  Retorno:\n",
        "    Lista de dicionários com informações sobre os imóveis.\n",
        "  \"\"\"\n",
        "  url = f\"https://www.imovelweb.com.br/apartamentos/venda/florianopolis/sc?pagina={pagina}\"\n",
        "  response = requests.get(url)\n",
        "  soup = BeautifulSoup(response.content, 'lxml')\n",
        "\n",
        "  imoveis = []\n",
        "  for imovel in soup.find_all('div', class_='listing-card__info'):\n",
        "    titulo = imovel.find('h4', class_='listing-card__title').text\n",
        "    valor = imovel.find('span', class_='listing-card__price-value').text\n",
        "    quartos = imovel.find('span', class_='listing-card__property-info__data').text.split(' ')[0]\n",
        "    banheiros = imovel.find('span', class_='listing-card__property-info__data').text.split(' ')[1]\n",
        "    area = imovel.find('span', class_='listing-card__property-info__data').text.split(' ')[2]\n",
        "    link = imovel.find('a')['href']\n",
        "\n",
        "    imoveis.append({\n",
        "      'titulo': titulo,\n",
        "      'valor': valor,\n",
        "      'quartos': quartos,\n",
        "      'banheiros': banheiros,\n",
        "      'area': area,\n",
        "      'link': link\n",
        "    })\n",
        "\n",
        "  return imoveis\n",
        "\n",
        "# Função para salvar leads em um arquivo CSV\n",
        "def salvar_leads_csv(leads, nome_arquivo):\n",
        "  \"\"\"\n",
        "  Função que recebe uma lista de dicionários com informações sobre leads e o nome do arquivo CSV para salvar os dados.\n",
        "\n",
        "  Argumentos:\n",
        "    leads (lista de dicionários): Lista de dicionários com informações sobre leads.\n",
        "    nome_arquivo (str): Nome do arquivo CSV para salvar os dados.\n",
        "  \"\"\"\n",
        "  with open(nome_arquivo, 'w', encoding='utf-8') as arquivo:\n",
        "    campo_nomes = ['nome', 'email', 'telefone', 'titulo_imovel', 'valor_imovel', 'link_imovel']\n",
        "    escritor = csv.DictWriter(arquivo, fieldnames=campo_nomes)\n",
        "    escritor.writeheader()\n",
        "\n",
        "    for lead in leads:\n",
        "      escritor.writerow({\n",
        "        'nome': lead['nome'],\n",
        "        'email': lead['email'],\n",
        "        'telefone': lead['telefone'],\n",
        "        'titulo_imovel': lead['titulo'],\n",
        "        'valor_imovel': lead['valor'],\n",
        "        'link_imovel': lead['link']\n",
        "      })\n",
        "\n",
        "# Exemplo de uso das funções\n",
        "\n",
        "# Buscar imóveis na primeira página do Imovelweb\n",
        "imoveis_pagina_1 = buscar_imoveis_imovelweb(1)\n",
        "\n",
        "# Extrair informações de contato dos proprietários dos imóveis (simulação)\n",
        "leads = []\n",
        "for imovel in imoveis_pagina_1:\n",
        "  # Simular consulta em um banco de dados ou API para obter informações de contato\n",
        "  nome = \"Nome do proprietário\"\n",
        "  email = \"email@exemplo.com\"\n",
        "  telefone = \"(48) 9999-9999\"\n",
        "\n",
        "  leads.append({\n",
        "    'nome': nome,\n",
        "    'email': email,\n",
        "    'telefone': telefone,\n",
        "    'titulo': imovel['titulo'],\n",
        "    'valor': imovel['valor'],\n",
        "    'link': imovel['link']\n",
        "  })"
      ]
    }
  ]
}